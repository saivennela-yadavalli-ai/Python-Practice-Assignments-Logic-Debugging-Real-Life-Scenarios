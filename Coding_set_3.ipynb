{
 "cells": [
  {
   "cell_type": "markdown",
   "id": "18413594-d4af-4312-91ec-826477296523",
   "metadata": {
    "id": "511e5dbe"
   },
   "source": [
    "## Q1. \n",
    "Square of Numbers from 1 to 5\n",
    "Output:\n",
    "1 4 9 16 25\n"
   ]
  },
  {
   "cell_type": "code",
   "execution_count": 2,
   "id": "6c221829-adf6-4fb5-ad88-371308aca4f5",
   "metadata": {},
   "outputs": [
    {
     "name": "stdout",
     "output_type": "stream",
     "text": [
      "1 4 9 16 25 "
     ]
    }
   ],
   "source": [
    "for i in range(1,6):\n",
    "    print(i ** 2, end = \" \")"
   ]
  },
  {
   "cell_type": "markdown",
   "id": "2a5713ec-6c59-4f73-ad22-b3500615d08b",
   "metadata": {
    "id": "e886abee"
   },
   "source": [
    "## Q2.\n",
    "Swap Two Variables Without Using a Temporary Variable\n",
    "Question: Write a Python program to swap two variables a = 5 and b = 10 without using a temporary variable."
   ]
  },
  {
   "cell_type": "code",
   "execution_count": 9,
   "id": "70939951-4b0e-4a13-aff0-438906884612",
   "metadata": {},
   "outputs": [
    {
     "name": "stdout",
     "output_type": "stream",
     "text": [
      "The value of a =  10\n",
      "The value of b =  5\n"
     ]
    }
   ],
   "source": [
    "a = 5\n",
    "b = 10\n",
    "\n",
    "a, b = b, a\n",
    "print(\"The value of a = \",a)\n",
    "print(\"The value of b = \",b)"
   ]
  },
  {
   "cell_type": "markdown",
   "id": "1a40476c-dae3-46bf-b5c5-1f62858f5d59",
   "metadata": {
    "id": "adfc0479"
   },
   "source": [
    "## Q3.\n",
    "Find Even and Odd Numbers in a List\n",
    "Question: Write a Python program to separate even and odd numbers from the list [12, 17, 19, 24, 35, 40, 56]."
   ]
  },
  {
   "cell_type": "code",
   "execution_count": 21,
   "id": "3923a52a-f24b-45a1-98b0-77c7511ec370",
   "metadata": {},
   "outputs": [
    {
     "name": "stdout",
     "output_type": "stream",
     "text": [
      "The Even Numbers are :  [12, 24, 40, 56]\n",
      "The Odd Numbers are :  [17, 19, 35]\n"
     ]
    }
   ],
   "source": [
    "a = [12, 17, 19, 24, 35, 40, 56]\n",
    "\n",
    "Even_Numbers = []\n",
    "Odd_Numbers = []\n",
    "for i in a:\n",
    "    if i % 2 == 0:\n",
    "        Even_Numbers.append(i)\n",
    "\n",
    "    else:\n",
    "        Odd_Numbers.append(i)\n",
    "\n",
    "print(\"The Even Numbers are : \", Even_Numbers)\n",
    "print(\"The Odd Numbers are : \", Odd_Numbers)"
   ]
  },
  {
   "cell_type": "markdown",
   "id": "c32cc17a-9ccd-4c98-8a9c-03639254452e",
   "metadata": {
    "id": "9bd0afd7"
   },
   "source": [
    "## Q4.\n",
    "Reverse a Number\n",
    "Question: Write a Python program to reverse the number 12345."
   ]
  },
  {
   "cell_type": "code",
   "execution_count": 29,
   "id": "2cf65227-f412-4bac-bfb1-49709bc2277d",
   "metadata": {},
   "outputs": [
    {
     "name": "stdout",
     "output_type": "stream",
     "text": [
      "54321\n"
     ]
    }
   ],
   "source": [
    "a = 12345\n",
    "\n",
    "num = str(a)[::-1]\n",
    "print(int(num))"
   ]
  },
  {
   "cell_type": "markdown",
   "id": "2e05e5c3-bb6a-48c0-bbd7-9bde50638d26",
   "metadata": {
    "id": "baf1f666"
   },
   "source": [
    "## Q5.\n",
    "Find the Second Largest Number in a List\n",
    "Question: Write a Python program to find the second largest number in the list [12, 45, 98, 34, 23].\n"
   ]
  },
  {
   "cell_type": "code",
   "execution_count": 31,
   "id": "eb6e77d2",
   "metadata": {
    "id": "eb6e77d2"
   },
   "outputs": [
    {
     "name": "stdout",
     "output_type": "stream",
     "text": [
      "The second Largest number is :  45\n"
     ]
    }
   ],
   "source": [
    "numbers = [12, 45, 98, 34, 23]\n",
    "\n",
    "numbers.sort()\n",
    "print(\"The second Largest number is : \", numbers[-2])"
   ]
  }
 ],
 "metadata": {
  "colab": {
   "provenance": []
  },
  "kernelspec": {
   "display_name": "Python 3 (ipykernel)",
   "language": "python",
   "name": "python3"
  },
  "language_info": {
   "codemirror_mode": {
    "name": "ipython",
    "version": 3
   },
   "file_extension": ".py",
   "mimetype": "text/x-python",
   "name": "python",
   "nbconvert_exporter": "python",
   "pygments_lexer": "ipython3",
   "version": "3.12.7"
  }
 },
 "nbformat": 4,
 "nbformat_minor": 5
}
